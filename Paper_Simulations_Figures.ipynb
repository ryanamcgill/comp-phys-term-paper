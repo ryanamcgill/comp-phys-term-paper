{
 "cells": [
  {
   "cell_type": "code",
   "execution_count": 1,
   "metadata": {},
   "outputs": [],
   "source": [
    "import matplotlib.pyplot as plt\n",
    "import numpy as np"
   ]
  },
  {
   "cell_type": "code",
   "execution_count": 2,
   "metadata": {},
   "outputs": [],
   "source": [
    "def create_circle_pattern(matrix, row, col, radius):\n",
    "    n = matrix.shape[0]\n",
    "    x, y = np.ogrid[:n, :n]\n",
    "    dist = np.sqrt((x-row)**2 + (y-col)**2)\n",
    "    matrix[dist <= radius] = 1\n",
    "    return matrix"
   ]
  },
  {
   "cell_type": "code",
   "execution_count": 7,
   "metadata": {},
   "outputs": [
    {
     "data": {
      "text/plain": [
       "<matplotlib.image.AxesImage at 0x1d1aaeec1c0>"
      ]
     },
     "execution_count": 7,
     "metadata": {},
     "output_type": "execute_result"
    },
    {
     "data": {
      "image/png": "[encoded data removed]",
      "text/plain": [
       "<Figure size 640x480 with 1 Axes>"
      ]
     },
     "metadata": {},
     "output_type": "display_data"
    }
   ],
   "source": [
    "# Constants\n",
    "M = 100         # Grid squares on a side\n",
    "\n",
    "freq = 100e6    # Drive frequency\n",
    "Omega_Rf = 2 * np.pi *freq\n",
    "A = 5           # Electric field amplitude\n",
    "rod_radius = 12\n",
    "\n",
    "coords_pos = [[rod_radius+1,rod_radius+1],[M-rod_radius-1,M-rod_radius-1]]\n",
    "coords_neg = [[M-rod_radius-1,rod_radius+1],[rod_radius+1,M-rod_radius-1]]\n",
    "pos_bit_pattern = np.zeros([M+1,M+1])\n",
    "neg_bit_pattern = np.zeros([M+1,M+1])\n",
    "for row,col in coords_pos:\n",
    "    pos_bit_pattern = create_circle_pattern(pos_bit_pattern,row,col,rod_radius)\n",
    "for row,col in coords_neg:\n",
    "    neg_bit_pattern = create_circle_pattern(neg_bit_pattern,row,col,rod_radius)\n",
    "\n"
   ]
  },
  {
   "cell_type": "code",
   "execution_count": null,
   "metadata": {},
   "outputs": [],
   "source": [
    "L = 10.0     # Side length of box [m]\n",
    "target = 1e-6   # Target accuracy [1uV]\n",
    "epsilon_0 = 8.85e-12\n",
    "\n",
    "a = L / float(M) # grid point spacing\n",
    "\n",
    "# Create arrays to hold potential values, including capacitor vals\n",
    "phi = np.zeros([M+1,M+1], float)\n",
    "rho = np.zeros([M+1,M+1], float)\n",
    "rho[int(xp/a):int((xp+l)/a),int(xp/a)] = Vp\n",
    "rho[int(xp/a):int((xp+l)/a),int(xn/a)] = Vn\n",
    "\n",
    "phi[int(xp/a):int((xp+l)/a),int(xp/a)] = Vp\n",
    "phi[int(xp/a):int((xp+l)/a),int(xn/a)] = Vn\n",
    "\n",
    "phiprime = np.zeros([M+1,M+1],float)\n",
    "\n",
    "# Main loop\n",
    "delta = 1.0\n",
    "iteration = 0\n",
    "while delta>target:\n",
    "    # Calculate new values of the potential\n",
    "    phiprime[0,:] = phi[0,:]\n",
    "    phiprime[-1,:] = phi[-1,:]\n",
    "    phiprime[:,0] = phi[:,0]\n",
    "    phiprime[:,-1] = phi[:,-1]\n",
    "\n",
    "\n",
    "    phiprime[1:M,1:M] = 0.25 * (phi[2:,1:M] + phi[:M-1,1:M] + phi[1:M,2:] + phi[1:M,:M-1]) + \\\n",
    "        (0.25 * a**2 / epsilon_0) * rho[1:M,1:M]    \n",
    "                                      \n",
    "    # Calculate maximum fractional difference from old values\n",
    "    delta = np.abs(phi-phiprime)\n",
    "    nonzero = phi > 0\n",
    "    if nonzero.any():\n",
    "\n",
    "        delta = np.max(delta[nonzero])\n",
    "    else:\n",
    "        delta = 1.0\n",
    "    if iteration % 10 == 0:\n",
    "        print(\"Iteration %3d: max. residual = %12.6g\" % (iteration, delta))\n",
    "\n",
    "    # Swap the two arrays around\n",
    "    phi,phiprime = phiprime,phi\n",
    "    iteration += 1\n",
    "# Make a plot\n",
    "plt.imshow(phi)\n",
    "plt.gray()\n",
    "plt.show()"
   ]
  }
 ],
 "metadata": {
  "kernelspec": {
   "display_name": "school",
   "language": "python",
   "name": "python3"
  },
  "language_info": {
   "codemirror_mode": {
    "name": "ipython",
    "version": 3
   },
   "file_extension": ".py",
   "mimetype": "text/x-python",
   "name": "python",
   "nbconvert_exporter": "python",
   "pygments_lexer": "ipython3",
   "version": "3.10.6"
  },
  "orig_nbformat": 4,
  "vscode": {
   "interpreter": {
    "hash": "c9a015e7cd9ddcfd020d2a7f773a97d4cc52671048f38b5789557a5d2e013dda"
   }
  }
 },
 "nbformat": 4,
 "nbformat_minor": 2
}
